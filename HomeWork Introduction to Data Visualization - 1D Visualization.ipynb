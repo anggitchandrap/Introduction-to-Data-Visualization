{
 "cells": [
  {
   "cell_type": "markdown",
   "metadata": {
    "id": "WID3HAbLhynr"
   },
   "source": [
    "# Tugas Data Visualization 1\n",
    "\n",
    "---"
   ]
  },
  {
   "cell_type": "code",
   "execution_count": 1,
   "metadata": {
    "id": "KIcK7NNqMyhW"
   },
   "outputs": [],
   "source": [
    "import pandas as pd\n",
    "import numpy as np\n",
    "import seaborn as sns\n",
    "%matplotlib inline\n",
    "import matplotlib.pyplot as plt\n",
    "import statistics as stats\n",
    "\n",
    "import warnings\n",
    "warnings.simplefilter(action='ignore', category=FutureWarning)"
   ]
  },
  {
   "cell_type": "code",
   "execution_count": null,
   "metadata": {
    "colab": {
     "base_uri": "https://localhost:8080/"
    },
    "executionInfo": {
     "elapsed": 1156,
     "status": "ok",
     "timestamp": 1605354960622,
     "user": {
      "displayName": "Nikita Setyagar",
      "photoUrl": "",
      "userId": "11963739043015391724"
     },
     "user_tz": -420
    },
    "id": "8-y5Z29Nmp6p",
    "outputId": "eec792ed-eed1-430f-e97b-28fc8b86986a"
   },
   "outputs": [
    {
     "name": "stdout",
     "output_type": "stream",
     "text": [
      "Drive already mounted at /content/drive/; to attempt to forcibly remount, call drive.mount(\"/content/drive/\", force_remount=True).\n"
     ]
    }
   ],
   "source": []
  },
  {
   "cell_type": "markdown",
   "metadata": {
    "id": "VXrJKMGEp1sP"
   },
   "source": [
    "Dalam tugas ini, kita akan menggunakan dataset publik: Housing Price. Dataset ini berisi berbagai informasi mengenai properti-properti yang dijual. Namun, kita hanya akan menggunakan kolom:\n",
    "\n",
    "* MSZoning: Klasifikasi zona lokasi properti\n",
    "  * RH: Zona perumahan padat\n",
    "  * RM: Zona perumahan sedang\n",
    "  * RL: Zona perumahan lengang\n",
    "\n",
    "* SalePrice: Harga jual properti dalam USD"
   ]
  },
  {
   "cell_type": "markdown",
   "metadata": {
    "id": "N0kd_len04R2"
   },
   "source": [
    "# Import Data"
   ]
  },
  {
   "cell_type": "code",
   "execution_count": 2,
   "metadata": {
    "colab": {
     "base_uri": "https://localhost:8080/",
     "height": 450
    },
    "executionInfo": {
     "elapsed": 1050,
     "status": "ok",
     "timestamp": 1605361598431,
     "user": {
      "displayName": "Nikita Setyagar",
      "photoUrl": "",
      "userId": "11963739043015391724"
     },
     "user_tz": -420
    },
    "id": "rPqX5G1ITh81",
    "outputId": "836f27ae-7bf4-4f2e-871f-bf60599ae0d7"
   },
   "outputs": [
    {
     "data": {
      "text/html": [
       "<div>\n",
       "<style scoped>\n",
       "    .dataframe tbody tr th:only-of-type {\n",
       "        vertical-align: middle;\n",
       "    }\n",
       "\n",
       "    .dataframe tbody tr th {\n",
       "        vertical-align: top;\n",
       "    }\n",
       "\n",
       "    .dataframe thead th {\n",
       "        text-align: right;\n",
       "    }\n",
       "</style>\n",
       "<table border=\"1\" class=\"dataframe\">\n",
       "  <thead>\n",
       "    <tr style=\"text-align: right;\">\n",
       "      <th></th>\n",
       "      <th>MSZoning</th>\n",
       "      <th>SalePrice</th>\n",
       "    </tr>\n",
       "    <tr>\n",
       "      <th>Id</th>\n",
       "      <th></th>\n",
       "      <th></th>\n",
       "    </tr>\n",
       "  </thead>\n",
       "  <tbody>\n",
       "    <tr>\n",
       "      <th>1</th>\n",
       "      <td>RL</td>\n",
       "      <td>208500</td>\n",
       "    </tr>\n",
       "    <tr>\n",
       "      <th>2</th>\n",
       "      <td>RL</td>\n",
       "      <td>181500</td>\n",
       "    </tr>\n",
       "    <tr>\n",
       "      <th>3</th>\n",
       "      <td>RL</td>\n",
       "      <td>223500</td>\n",
       "    </tr>\n",
       "    <tr>\n",
       "      <th>4</th>\n",
       "      <td>RL</td>\n",
       "      <td>140000</td>\n",
       "    </tr>\n",
       "    <tr>\n",
       "      <th>5</th>\n",
       "      <td>RL</td>\n",
       "      <td>250000</td>\n",
       "    </tr>\n",
       "    <tr>\n",
       "      <th>...</th>\n",
       "      <td>...</td>\n",
       "      <td>...</td>\n",
       "    </tr>\n",
       "    <tr>\n",
       "      <th>1456</th>\n",
       "      <td>RL</td>\n",
       "      <td>175000</td>\n",
       "    </tr>\n",
       "    <tr>\n",
       "      <th>1457</th>\n",
       "      <td>RL</td>\n",
       "      <td>210000</td>\n",
       "    </tr>\n",
       "    <tr>\n",
       "      <th>1458</th>\n",
       "      <td>RL</td>\n",
       "      <td>266500</td>\n",
       "    </tr>\n",
       "    <tr>\n",
       "      <th>1459</th>\n",
       "      <td>RL</td>\n",
       "      <td>142125</td>\n",
       "    </tr>\n",
       "    <tr>\n",
       "      <th>1460</th>\n",
       "      <td>RL</td>\n",
       "      <td>147500</td>\n",
       "    </tr>\n",
       "  </tbody>\n",
       "</table>\n",
       "<p>1460 rows × 2 columns</p>\n",
       "</div>"
      ],
      "text/plain": [
       "     MSZoning  SalePrice\n",
       "Id                      \n",
       "1          RL     208500\n",
       "2          RL     181500\n",
       "3          RL     223500\n",
       "4          RL     140000\n",
       "5          RL     250000\n",
       "...       ...        ...\n",
       "1456       RL     175000\n",
       "1457       RL     210000\n",
       "1458       RL     266500\n",
       "1459       RL     142125\n",
       "1460       RL     147500\n",
       "\n",
       "[1460 rows x 2 columns]"
      ]
     },
     "execution_count": 2,
     "metadata": {},
     "output_type": "execute_result"
    }
   ],
   "source": [
    "# Prepare dataset\n",
    "\n",
    "df = pd.read_csv('Data Tugas 1/train_house.csv') ### tulis kode Anda di sini\n",
    "df.index = df['Id']\n",
    "\n",
    "house = df[['MSZoning', 'SalePrice']]\n",
    "house"
   ]
  },
  {
   "cell_type": "markdown",
   "metadata": {
    "id": "yMie07Fh06sr"
   },
   "source": [
    "# Check Missing Data"
   ]
  },
  {
   "cell_type": "code",
   "execution_count": 3,
   "metadata": {
    "colab": {
     "base_uri": "https://localhost:8080/",
     "height": 111
    },
    "executionInfo": {
     "elapsed": 1135,
     "status": "ok",
     "timestamp": 1605358327672,
     "user": {
      "displayName": "Nikita Setyagar",
      "photoUrl": "",
      "userId": "11963739043015391724"
     },
     "user_tz": -420
    },
    "id": "93u-N6CpUEBO",
    "outputId": "0dd6a1d9-93b7-46b3-f185-619c66c5fe6a"
   },
   "outputs": [
    {
     "data": {
      "text/html": [
       "<div>\n",
       "<style scoped>\n",
       "    .dataframe tbody tr th:only-of-type {\n",
       "        vertical-align: middle;\n",
       "    }\n",
       "\n",
       "    .dataframe tbody tr th {\n",
       "        vertical-align: top;\n",
       "    }\n",
       "\n",
       "    .dataframe thead th {\n",
       "        text-align: right;\n",
       "    }\n",
       "</style>\n",
       "<table border=\"1\" class=\"dataframe\">\n",
       "  <thead>\n",
       "    <tr style=\"text-align: right;\">\n",
       "      <th></th>\n",
       "      <th>Total</th>\n",
       "      <th>Percent</th>\n",
       "    </tr>\n",
       "  </thead>\n",
       "  <tbody>\n",
       "    <tr>\n",
       "      <th>SalePrice</th>\n",
       "      <td>0</td>\n",
       "      <td>0.0</td>\n",
       "    </tr>\n",
       "    <tr>\n",
       "      <th>MSZoning</th>\n",
       "      <td>0</td>\n",
       "      <td>0.0</td>\n",
       "    </tr>\n",
       "  </tbody>\n",
       "</table>\n",
       "</div>"
      ],
      "text/plain": [
       "           Total  Percent\n",
       "SalePrice      0      0.0\n",
       "MSZoning       0      0.0"
      ]
     },
     "execution_count": 3,
     "metadata": {},
     "output_type": "execute_result"
    }
   ],
   "source": [
    "# Cek apakah ada data yang kosong -- jangan diganti\n",
    "\n",
    "total = house.isnull().sum().sort_values(ascending=False)\n",
    "percent = (house.isnull().sum()/house.isnull().count()).sort_values(ascending=False)\n",
    "missing_data = pd.concat([total, percent], axis=1, keys=['Total', 'Percent'])\n",
    "missing_data"
   ]
  },
  {
   "cell_type": "markdown",
   "metadata": {
    "id": "OFC5ju4g0977"
   },
   "source": [
    "# Visualization"
   ]
  },
  {
   "cell_type": "markdown",
   "metadata": {
    "id": "LHX78ran1EXU"
   },
   "source": [
    "### Soal:\n",
    "\n",
    "1. Buat histogram data SalePrice untuk kategori MSZoning RH, RM, dan RL\n",
    "2. Tentukan central tendency tiap-tiap histogram!\n",
    "3. Tentukan bentuk tiap-tiap histogram!\n",
    "4. Buat analisis mengenai distribusi SalePrice dihubungkan dengan informasi mengenai MSZoning!"
   ]
  },
  {
   "cell_type": "markdown",
   "metadata": {
    "id": "BkHdGKlQOD5I"
   },
   "source": [
    "### Jawaban:\n",
    "\n",
    "1 & 2"
   ]
  },
  {
   "cell_type": "code",
   "execution_count": 4,
   "metadata": {
    "colab": {
     "base_uri": "https://localhost:8080/"
    },
    "executionInfo": {
     "elapsed": 1120,
     "status": "ok",
     "timestamp": 1605359935993,
     "user": {
      "displayName": "Nikita Setyagar",
      "photoUrl": "",
      "userId": "11963739043015391724"
     },
     "user_tz": -420
    },
    "id": "9WNOF4dr0uYb",
    "outputId": "636dc1b1-1658-4c17-a188-e0cfd6c73b86"
   },
   "outputs": [
    {
     "name": "stdout",
     "output_type": "stream",
     "text": [
      "Kategori MSZoning =  ['RL' 'RM' 'C (all)' 'FV' 'RH']\n"
     ]
    }
   ],
   "source": [
    "# Mencari tahu kategori dalam MSZoning\n",
    "\n",
    "kategori = house['MSZoning'].unique() ### tulis kode Anda di sini\n",
    "print('Kategori MSZoning = ', kategori)"
   ]
  },
  {
   "cell_type": "code",
   "execution_count": 11,
   "metadata": {
    "colab": {
     "base_uri": "https://localhost:8080/",
     "height": 285
    },
    "executionInfo": {
     "elapsed": 1784,
     "status": "ok",
     "timestamp": 1605363171550,
     "user": {
      "displayName": "Nikita Setyagar",
      "photoUrl": "",
      "userId": "11963739043015391724"
     },
     "user_tz": -420
    },
    "id": "AfSmHkdQ6HjG",
    "outputId": "67c88502-17db-4ba0-cdc2-79b2ac61a5ca"
   },
   "outputs": [
    {
     "data": {
      "text/plain": [
       "<function matplotlib.pyplot.show(*args, **kw)>"
      ]
     },
     "execution_count": 11,
     "metadata": {},
     "output_type": "execute_result"
    },
    {
     "data": {
      "image/png": "[encoded data removed]",
      "text/plain": [
       "<Figure size 432x288 with 1 Axes>"
      ]
     },
     "metadata": {
      "needs_background": "light"
     },
     "output_type": "display_data"
    }
   ],
   "source": [
    "# Membuat bar plot MSZoning\n",
    "\n",
    "plt.figure(figsize=(6,4))\n",
    "sns.barplot(x=house.MSZoning.value_counts().index,\n",
    "            y=house.MSZoning.value_counts())\n",
    "plt.show"
   ]
  },
  {
   "cell_type": "code",
   "execution_count": 19,
   "metadata": {
    "colab": {
     "base_uri": "https://localhost:8080/"
    },
    "executionInfo": {
     "elapsed": 1191,
     "status": "ok",
     "timestamp": 1605365917081,
     "user": {
      "displayName": "Nikita Setyagar",
      "photoUrl": "",
      "userId": "11963739043015391724"
     },
     "user_tz": -420
    },
    "id": "IWb0IX6xQ9uL",
    "outputId": "7189e044-ca9e-4e2d-acaa-7d96e437ee2b"
   },
   "outputs": [
    {
     "name": "stdout",
     "output_type": "stream",
     "text": [
      "Mean RH =  131558.375\n",
      "Median RH =  136500.0\n",
      "Mode RH =  145000\n"
     ]
    }
   ],
   "source": [
    "RH = house['SalePrice'].loc[house['MSZoning']=='RH']\n",
    "\n",
    "# Print nilai central tendency RH\n",
    "print('Mean RH = ',RH.mean()) ### tulis kode Anda di sini)\n",
    "print('Median RH = ', np.median(RH)) ### tulis kode Anda di sini)\n",
    "print('Mode RH = ', stats.mode(RH))### tulis kode Anda di sini)"
   ]
  },
  {
   "cell_type": "code",
   "execution_count": 7,
   "metadata": {
    "colab": {
     "base_uri": "https://localhost:8080/",
     "height": 350
    },
    "executionInfo": {
     "elapsed": 1161,
     "status": "error",
     "timestamp": 1605365937927,
     "user": {
      "displayName": "Nikita Setyagar",
      "photoUrl": "",
      "userId": "11963739043015391724"
     },
     "user_tz": -420
    },
    "id": "vc_Bxp6cRCu7",
    "outputId": "826127f0-a02e-40ad-edbd-108fd910cf32"
   },
   "outputs": [
    {
     "name": "stdout",
     "output_type": "stream",
     "text": [
      "Mean RM =  126316.83027522935\n",
      "Median RM =  120500.0\n",
      "Mode RM =  0    115000\n",
      "1    140000\n",
      "dtype: int64\n"
     ]
    }
   ],
   "source": [
    "RM = house['SalePrice'].loc[house['MSZoning']=='RM']\n",
    "\n",
    "# Print nilai central tendency RH\n",
    "print('Mean RM = ',RM.mean()) ### tulis kode Anda di sini)\n",
    "print('Median RM = ', np.median(RM)) ### tulis kode Anda di sini)\n",
    "print('Mode RM = ', RM.mode())### tulis kode Anda di sini)"
   ]
  },
  {
   "cell_type": "code",
   "execution_count": 8,
   "metadata": {
    "colab": {
     "base_uri": "https://localhost:8080/"
    },
    "executionInfo": {
     "elapsed": 972,
     "status": "ok",
     "timestamp": 1605366217529,
     "user": {
      "displayName": "Nikita Setyagar",
      "photoUrl": "",
      "userId": "11963739043015391724"
     },
     "user_tz": -420
    },
    "id": "fLcyreeIRfSn",
    "outputId": "12eaf5eb-be8b-4e73-d7e3-ed5e3b6855dc"
   },
   "outputs": [
    {
     "name": "stdout",
     "output_type": "stream",
     "text": [
      "Mean RL =  191004.99478714162\n",
      "Median RL =  174000.0\n",
      "Mode RL =  135000\n"
     ]
    }
   ],
   "source": [
    "RL = house['SalePrice'].loc[house['MSZoning']=='RL']\n",
    "\n",
    "# Print nilai central tendency RH\n",
    "print('Mean RL = ',RL.mean()) ### tulis kode Anda di sini)\n",
    "print('Median RL = ', np.median(RL)) ### tulis kode Anda di sini)\n",
    "print('Mode RL = ', stats.mode(RL))### tulis kode Anda di sini)"
   ]
  },
  {
   "cell_type": "code",
   "execution_count": 9,
   "metadata": {
    "colab": {
     "base_uri": "https://localhost:8080/",
     "height": 290
    },
    "executionInfo": {
     "elapsed": 1122,
     "status": "ok",
     "timestamp": 1605365902366,
     "user": {
      "displayName": "Nikita Setyagar",
      "photoUrl": "",
      "userId": "11963739043015391724"
     },
     "user_tz": -420
    },
    "id": "SY8szt2aJTfL",
    "outputId": "f44907b1-931d-47d8-92ab-b314e06abf64"
   },
   "outputs": [
    {
     "data": {
      "image/png": "[encoded data removed]",
      "text/plain": [
       "<Figure size 432x288 with 1 Axes>"
      ]
     },
     "metadata": {
      "needs_background": "light"
     },
     "output_type": "display_data"
    }
   ],
   "source": [
    "# Plot RH\n",
    "p = sns.distplot(RH, axlabel='RH')\n",
    "\n",
    "# Central Tendency\n",
    "line1 = plt.axvline(RH.mean(), color='b', linestyle='--', label='mean')\n",
    "line2 = plt.axvline(np.median(RH), color='r', linestyle='--', label='median')\n",
    "line3 = plt.axvline(stats.mode(RH), color='g', linestyle='--', label='mode')\n",
    "\n",
    "first_legend = plt.legend(handles=[line1, line2, line3], loc=1)\n",
    "plt.show()"
   ]
  },
  {
   "cell_type": "code",
   "execution_count": 10,
   "metadata": {
    "colab": {
     "base_uri": "https://localhost:8080/",
     "height": 290
    },
    "executionInfo": {
     "elapsed": 1494,
     "status": "ok",
     "timestamp": 1605366482047,
     "user": {
      "displayName": "Nikita Setyagar",
      "photoUrl": "",
      "userId": "11963739043015391724"
     },
     "user_tz": -420
    },
    "id": "LopUXYqKJuFI",
    "outputId": "391bfe5b-5c6a-4952-a548-1c7102999eda"
   },
   "outputs": [
    {
     "data": {
      "image/png": "[encoded data removed]",
      "text/plain": [
       "<Figure size 432x288 with 1 Axes>"
      ]
     },
     "metadata": {
      "needs_background": "light"
     },
     "output_type": "display_data"
    }
   ],
   "source": [
    "# Plot RM\n",
    "p = sns.distplot(RM, axlabel='RM')\n",
    "\n",
    "# Central Tendency\n",
    "line1 = plt.axvline(RM.mean(), color='b', linestyle='--', label='mean')\n",
    "line2 = plt.axvline(np.median(RM), color='r', linestyle='--', label='median')\n",
    "# line3 = plt.axvline(stats.mode(RM), color='g', linestyle='--', label='mode')\n",
    "\n",
    "first_legend = plt.legend(handles=[line1, line2, line3], loc=1)\n",
    "plt.xlim([0, 250000])\n",
    "plt.show()"
   ]
  },
  {
   "cell_type": "code",
   "execution_count": 11,
   "metadata": {
    "colab": {
     "base_uri": "https://localhost:8080/",
     "height": 290
    },
    "executionInfo": {
     "elapsed": 1170,
     "status": "ok",
     "timestamp": 1605364197534,
     "user": {
      "displayName": "Nikita Setyagar",
      "photoUrl": "",
      "userId": "11963739043015391724"
     },
     "user_tz": -420
    },
    "id": "WrU06sHwJwB2",
    "outputId": "4ecb6885-bbc7-419d-d0aa-f29781c54c60"
   },
   "outputs": [
    {
     "data": {
      "image/png": "[encoded data removed]",
      "text/plain": [
       "<Figure size 432x288 with 1 Axes>"
      ]
     },
     "metadata": {
      "needs_background": "light"
     },
     "output_type": "display_data"
    }
   ],
   "source": [
    "# Plot RL\n",
    "p = sns.distplot(RL, axlabel='RL')\n",
    "\n",
    "# Central Tendency\n",
    "line1 = plt.axvline(RL.mean(), color='b', linestyle='--', label='mean')\n",
    "line2 = plt.axvline(np.median(RL), color='r', linestyle='--', label='median')\n",
    "line3 = plt.axvline(stats.mode(RL), color='g', linestyle='--', label='mode')\n",
    "\n",
    "first_legend = plt.legend(handles=[line1, line2, line3], loc=1)\n",
    "plt.show()"
   ]
  },
  {
   "cell_type": "markdown",
   "metadata": {
    "id": "oycUTDCrKna_"
   },
   "source": [
    "3. Bentuk histogram \n",
    "\n",
    "\n",
    "* RH = Distribusi Normal\n",
    "* RM = Distribusi dengan Outlier\n",
    "* RL = Distribusi Right Skewed "
   ]
  },
  {
   "cell_type": "markdown",
   "metadata": {
    "id": "Y5wXC5lDNVTM"
   },
   "source": [
    "4. Analisis:\n",
    "\n",
    "Dari dataset house price terdapat 1460 data baris. Klasifikasi zona lokasi properti (MSZoning) terdiri dari RL, RM, RH, FV, dan C (all). Jumlah properti terbanyak berupa RL, RM, FV, RH, dan C (all). Berdasarkan plot distribusi dan central tendency pada zona RH, RM, dan RL. Pada zona RH memiliki central tendency 145000 dan berbentuk distribusi normal. Pada zona RM memiliki central tendecy 120500.0 dan berbentuk distribusi normal dengan kehadiran outliers. Pada zona RL memiliki central tendecy 174000.0 dan berbentuk distribusi right skewed. Dari penjelasan diatas dapat ditafsirkan bahwa harga dari sebuah properti pada suatu zona akan berbeda satu sama yang lain. Dimana pada zona RH memiliki variasi harga yang cukup sempit, pada zona RM memiliki variasi yang mulai bervariasi, dan pada zona RL memiliki harga yang sangat bervariasi dengan didominasi harga yang lebih rendah dari central tendency.\n"
   ]
  }
 ],
 "metadata": {
  "colab": {
   "authorship_tag": "ABX9TyNgNHUnDRMbt6sLiHbIfHm6",
   "collapsed_sections": [],
   "name": "Tugas 1.ipynb",
   "provenance": []
  },
  "kernelspec": {
   "display_name": "Python 3",
   "language": "python",
   "name": "python3"
  },
  "language_info": {
   "codemirror_mode": {
    "name": "ipython",
    "version": 3
   },
   "file_extension": ".py",
   "mimetype": "text/x-python",
   "name": "python",
   "nbconvert_exporter": "python",
   "pygments_lexer": "ipython3",
   "version": "3.7.4"
  }
 },
 "nbformat": 4,
 "nbformat_minor": 1
}
